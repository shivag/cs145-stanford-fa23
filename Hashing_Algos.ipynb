{
  "nbformat": 4,
  "nbformat_minor": 0,
  "metadata": {
    "colab": {
      "provenance": [],
      "authorship_tag": "ABX9TyNtKRTu14EAxLuzUANj6QC7",
      "include_colab_link": true
    },
    "kernelspec": {
      "name": "python3",
      "display_name": "Python 3"
    },
    "language_info": {
      "name": "python"
    }
  },
  "cells": [
    {
      "cell_type": "markdown",
      "metadata": {
        "id": "view-in-github",
        "colab_type": "text"
      },
      "source": [
        "<a href=\"https://colab.research.google.com/github/shivag/cs145-public/blob/main/Hashing_Algos.ipynb\" target=\"_parent\"><img src=\"https://colab.research.google.com/assets/colab-badge.svg\" alt=\"Open In Colab\"/></a>"
      ]
    },
    {
      "cell_type": "code",
      "source": [
        "!pip install pybloom_live h3 faiss-cpu whoosh"
      ],
      "metadata": {
        "colab": {
          "base_uri": "https://localhost:8080/"
        },
        "id": "9Hs8jB86RrxC",
        "outputId": "6b287010-558e-44fb-88cd-5fcb6c1e8c14"
      },
      "execution_count": 15,
      "outputs": [
        {
          "output_type": "stream",
          "name": "stdout",
          "text": [
            "Looking in indexes: https://pypi.org/simple, https://us-python.pkg.dev/colab-wheels/public/simple/\n",
            "Requirement already satisfied: pybloom_live in /usr/local/lib/python3.8/dist-packages (4.0.0)\n",
            "Requirement already satisfied: h3 in /usr/local/lib/python3.8/dist-packages (3.7.6)\n",
            "Requirement already satisfied: faiss-cpu in /usr/local/lib/python3.8/dist-packages (1.7.3)\n",
            "Collecting whoosh\n",
            "  Downloading Whoosh-2.7.4-py2.py3-none-any.whl (468 kB)\n",
            "\u001b[2K     \u001b[90m━━━━━━━━━━━━━━━━━━━━━━━━━━━━━━━━━━━━━━\u001b[0m \u001b[32m468.8/468.8 KB\u001b[0m \u001b[31m12.1 MB/s\u001b[0m eta \u001b[36m0:00:00\u001b[0m\n",
            "\u001b[?25hRequirement already satisfied: bitarray>=0.3.4 in /usr/local/lib/python3.8/dist-packages (from pybloom_live) (2.7.3)\n",
            "Requirement already satisfied: xxhash>=3.0.0 in /usr/local/lib/python3.8/dist-packages (from pybloom_live) (3.2.0)\n",
            "Installing collected packages: whoosh\n",
            "Successfully installed whoosh-2.7.4\n"
          ]
        }
      ]
    },
    {
      "cell_type": "code",
      "execution_count": 7,
      "metadata": {
        "colab": {
          "base_uri": "https://localhost:8080/"
        },
        "id": "l4CeS-WmP0Ui",
        "outputId": "3350bb65-f364-4e3a-a27f-3799aea4cee1"
      },
      "outputs": [
        {
          "output_type": "stream",
          "name": "stdout",
          "text": [
            "@zoom[ 8 ]: 88283082a1fffff\n",
            "@zoom[ 8 ]: 8828347417fffff\n",
            "@zoom[ 8 ]: 8828347417fffff\n",
            "@zoom[ 8 ]: 8828347417fffff\n",
            "@zoom[ 12 ]: 8c283082a06bbff\n",
            "@zoom[ 12 ]: 8c28347416257ff\n",
            "@zoom[ 12 ]: 8c2834741602bff\n",
            "@zoom[ 12 ]: 8c28347416021ff\n"
          ]
        }
      ],
      "source": [
        "import h3\n",
        "# lat/lngs from SF mission, Stanford NVidia, Packard, Gates Buildings\n",
        "locations = [(37.788022, -122.399797), (37.428226, -122.174722), \n",
        "             (37.429749, -122.1735490), (37.429761, -122.173290)]\n",
        "for zoom in [8, 12]: # zoomlevels 8 and 12 (imagine the +/- in map zoom)\n",
        "  for l in locations:\n",
        "    cell_id = h3.geo_to_h3(l[0], l[1], zoom)\n",
        "    print(\"@zoom[\", zoom, \"]:\", cell_id)"
      ]
    },
    {
      "cell_type": "code",
      "source": [
        "from pybloom_live import BloomFilter\n",
        "\n",
        "# Create a Bloom filter with 1000 items and a 0.1% false positive rate\n",
        "bf = BloomFilter(capacity=1000, error_rate=0.001)\n",
        "\n",
        "# Add some integers to the Bloom filter\n",
        "bf.add(42); bf.add(30); bf.add(50)\n",
        "\n",
        "# Check if each integer in the list is in the Bloom filter\n",
        "integer_list = [42, 50, 100, 32]\n",
        "for i in integer_list:\n",
        "  if i in bf:\n",
        "    print(f\"{i} may be in the Bloom filter\")\n",
        "  else:\n",
        "    print(f\"{i} is definitely not in the Bloom filter\")"
      ],
      "metadata": {
        "colab": {
          "base_uri": "https://localhost:8080/"
        },
        "id": "OHG_WGX3ayYa",
        "outputId": "a9f150fc-6eec-4587-ac97-d711ffd83e89"
      },
      "execution_count": 8,
      "outputs": [
        {
          "output_type": "stream",
          "name": "stdout",
          "text": [
            "42 may be in the Bloom filter\n",
            "50 may be in the Bloom filter\n",
            "100 is definitely not in the Bloom filter\n",
            "32 is definitely not in the Bloom filter\n"
          ]
        }
      ]
    },
    {
      "cell_type": "code",
      "source": [
        "from google.colab import drive\n",
        "drive.mount('/content/drive')"
      ],
      "metadata": {
        "id": "ga94lY3Vbd6J"
      },
      "execution_count": null,
      "outputs": []
    },
    {
      "cell_type": "code",
      "source": [
        "import numpy as np, faiss\n",
        "# Generate 1000 points in a 10-dimensional space\n",
        "X = np.random.rand(1000, 10).astype('float32')\n",
        "\n",
        "# Build an LSH index for the points\n",
        "index = faiss.IndexLSH(10, 8)\n",
        "index.add(X)\n",
        "\n",
        "# Find the 5 nearest neighbors (distances and points) of xq, a new 10-dim point\n",
        "xq = np.random.rand(10).astype('float32') \n",
        "D, I = index.search(np.expand_dims(xq, axis=0), k=5)\n",
        "\n",
        "# Print the indices and distances of the nearest neighbors\n",
        "print(\"Nearest neighbor of \", xq, \" is:\", I, \" with distance: \", D)"
      ],
      "metadata": {
        "colab": {
          "base_uri": "https://localhost:8080/"
        },
        "id": "LYhsf-tsa2iz",
        "outputId": "9fb99345-38e6-49d0-859a-846c7800119e"
      },
      "execution_count": 12,
      "outputs": [
        {
          "output_type": "stream",
          "name": "stdout",
          "text": [
            "Nearest neighbor of  [0.9562943  0.4509454  0.75692314 0.96686363 0.79955685 0.2184114\n",
            " 0.5928665  0.6337663  0.41091037 0.99143934]  is: [[21 49 57 59 79]]  with distance:  [[0. 0. 0. 0. 0.]]\n"
          ]
        }
      ]
    },
    {
      "cell_type": "code",
      "source": [
        "import faiss\n",
        "import numpy as np\n",
        "from PIL import Image\n",
        "\n",
        "d = 256 # number of dimensions in the feature vector\n",
        "# Map an image to a k-dimensions\n",
        "def normed(fname):\n",
        "  # Load the image\n",
        "  img = Image.open(fname)\n",
        "  img = img.resize((16, 16))\n",
        "  img = np.array(img)\n",
        "  # Convert the image to feature vector\n",
        "  x = img.reshape(-1, d).astype('float32')\n",
        "  faiss.normalize_L2(x) # Normalize the feature vector\n",
        "  return x\n",
        "\n",
        "# Build an index for the feature vectors\n",
        "index = faiss.IndexFlatL2(d)\n",
        "index.add(normed('stanford-logo.png'))\n",
        "for img in [\"stanford-logo.png\", \"stanford-logo2.jpg\", \"stanford-logo3.png\"]:\n",
        "  index.add(normed(img))\n",
        "# Query an example image\n",
        "query_x = normed('stanford-logo3.png')\n",
        "D, I = index.search(query_x, k=2)\n",
        "print(D)"
      ],
      "metadata": {
        "colab": {
          "base_uri": "https://localhost:8080/"
        },
        "id": "N5o8nVIBa49Q",
        "outputId": "9b735b81-4e19-4a5b-bbfb-a5da91478d37"
      },
      "execution_count": 13,
      "outputs": [
        {
          "output_type": "stream",
          "name": "stdout",
          "text": [
            "[[0.         0.27528164]\n",
            " [0.         0.13537623]\n",
            " [0.         0.13537623]\n",
            " [0.         0.18201266]]\n"
          ]
        }
      ]
    },
    {
      "cell_type": "code",
      "source": [
        "import os\n",
        "from whoosh.fields import TEXT, Schema\n",
        "from whoosh.index import create_in\n",
        "from whoosh.qparser import QueryParser\n",
        "\n",
        "# Define the index schema\n",
        "schema = Schema(content=TEXT)\n",
        "os.mkdir(\"my_index_dir\")\n",
        "# Create a new index\n",
        "ix = create_in(\"my_index_dir\", schema)\n",
        "\n",
        "# Add some documents to the index\n",
        "with ix.writer() as writer:\n",
        "  writer.add_document(content=\"crazy in love - beyonce\")\n",
        "  writer.add_document(content=\"crazy love - van morrison\")\n",
        "  writer.add_document(content=\"crazy -- aerosmith\")\n",
        "\n",
        "# Search for documents containing the word \"fox\"\n",
        "qries = [\"crazy\", \"aerosmith\", \"crazy love\"]\n",
        "for q in qries:\n",
        "  with ix.searcher() as searcher:\n",
        "    results = searcher.search(QueryParser(\"content\", schema).parse(q))\n",
        "    print(results)\n"
      ],
      "metadata": {
        "colab": {
          "base_uri": "https://localhost:8080/"
        },
        "id": "iWjJi7l0dLN_",
        "outputId": "7c3f51b3-67db-4e5d-a358-9256253d3127"
      },
      "execution_count": 18,
      "outputs": [
        {
          "output_type": "stream",
          "name": "stdout",
          "text": [
            "<Top 3 Results for Term('content', 'crazy') runtime=0.0009647299998505332>\n",
            "<Top 1 Results for Term('content', 'aerosmith') runtime=0.00040564400023868075>\n",
            "<Top 2 Results for And([Term('content', 'crazy'), Term('content', 'love')]) runtime=0.0009455250001337845>\n"
          ]
        }
      ]
    }
  ]
}