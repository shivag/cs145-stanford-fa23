{
  "nbformat": 4,
  "nbformat_minor": 0,
  "metadata": {
    "colab": {
      "provenance": [],
      "authorship_tag": "ABX9TyPH9CzSoZJmtBEDw1kmimj1",
      "include_colab_link": true
    },
    "kernelspec": {
      "name": "python3",
      "display_name": "Python 3"
    },
    "language_info": {
      "name": "python"
    }
  },
  "cells": [
    {
      "cell_type": "markdown",
      "metadata": {
        "id": "view-in-github",
        "colab_type": "text"
      },
      "source": [
        "<a href=\"https://colab.research.google.com/github/shivag/cs145-public/blob/main/Hashing_Algos.ipynb\" target=\"_parent\"><img src=\"https://colab.research.google.com/assets/colab-badge.svg\" alt=\"Open In Colab\"/></a>"
      ]
    },
    {
      "cell_type": "code",
      "source": [
        "!pip install pybloom_live h3 faiss-cpu"
      ],
      "metadata": {
        "colab": {
          "base_uri": "https://localhost:8080/"
        },
        "id": "9Hs8jB86RrxC",
        "outputId": "1f89df73-b01c-4558-8815-10cb3686304d"
      },
      "execution_count": 6,
      "outputs": [
        {
          "output_type": "stream",
          "name": "stdout",
          "text": [
            "Looking in indexes: https://pypi.org/simple, https://us-python.pkg.dev/colab-wheels/public/simple/\n",
            "Collecting pybloom_live\n",
            "  Downloading pybloom_live-4.0.0.tar.gz (10 kB)\n",
            "  Preparing metadata (setup.py) ... \u001b[?25l\u001b[?25hdone\n",
            "Collecting h3\n",
            "  Downloading h3-3.7.6-cp38-cp38-manylinux_2_17_x86_64.manylinux2014_x86_64.whl (1.1 MB)\n",
            "\u001b[2K     \u001b[90m━━━━━━━━━━━━━━━━━━━━━━━━━━━━━━━━━━━━━━━━\u001b[0m \u001b[32m1.1/1.1 MB\u001b[0m \u001b[31m21.7 MB/s\u001b[0m eta \u001b[36m0:00:00\u001b[0m\n",
            "\u001b[?25hCollecting faiss-cpu\n",
            "  Downloading faiss_cpu-1.7.3-cp38-cp38-manylinux_2_17_x86_64.manylinux2014_x86_64.whl (17.0 MB)\n",
            "\u001b[2K     \u001b[90m━━━━━━━━━━━━━━━━━━━━━━━━━━━━━━━━━━━━━━━━\u001b[0m \u001b[32m17.0/17.0 MB\u001b[0m \u001b[31m59.3 MB/s\u001b[0m eta \u001b[36m0:00:00\u001b[0m\n",
            "\u001b[?25hCollecting bitarray>=0.3.4\n",
            "  Downloading bitarray-2.7.3-cp38-cp38-manylinux_2_17_x86_64.manylinux2014_x86_64.whl (271 kB)\n",
            "\u001b[2K     \u001b[90m━━━━━━━━━━━━━━━━━━━━━━━━━━━━━━━━━━━━━━\u001b[0m \u001b[32m271.8/271.8 KB\u001b[0m \u001b[31m25.9 MB/s\u001b[0m eta \u001b[36m0:00:00\u001b[0m\n",
            "\u001b[?25hCollecting xxhash>=3.0.0\n",
            "  Downloading xxhash-3.2.0-cp38-cp38-manylinux_2_17_x86_64.manylinux2014_x86_64.whl (213 kB)\n",
            "\u001b[2K     \u001b[90m━━━━━━━━━━━━━━━━━━━━━━━━━━━━━━━━━━━━━━\u001b[0m \u001b[32m213.0/213.0 KB\u001b[0m \u001b[31m24.6 MB/s\u001b[0m eta \u001b[36m0:00:00\u001b[0m\n",
            "\u001b[?25hBuilding wheels for collected packages: pybloom_live\n",
            "  Building wheel for pybloom_live (setup.py) ... \u001b[?25l\u001b[?25hdone\n",
            "  Created wheel for pybloom_live: filename=pybloom_live-4.0.0-py3-none-any.whl size=9233 sha256=40d30d5ca2e1f4b2edb252572cec0385eb9fd664954b4b50745061e734a3726c\n",
            "  Stored in directory: /root/.cache/pip/wheels/fa/05/5b/632be6183ffb57a72bd83d7173079a0eb4cee8c010063199f8\n",
            "Successfully built pybloom_live\n",
            "Installing collected packages: h3, faiss-cpu, bitarray, xxhash, pybloom_live\n",
            "Successfully installed bitarray-2.7.3 faiss-cpu-1.7.3 h3-3.7.6 pybloom_live-4.0.0 xxhash-3.2.0\n"
          ]
        }
      ]
    },
    {
      "cell_type": "code",
      "execution_count": 7,
      "metadata": {
        "colab": {
          "base_uri": "https://localhost:8080/"
        },
        "id": "l4CeS-WmP0Ui",
        "outputId": "3350bb65-f364-4e3a-a27f-3799aea4cee1"
      },
      "outputs": [
        {
          "output_type": "stream",
          "name": "stdout",
          "text": [
            "@zoom[ 8 ]: 88283082a1fffff\n",
            "@zoom[ 8 ]: 8828347417fffff\n",
            "@zoom[ 8 ]: 8828347417fffff\n",
            "@zoom[ 8 ]: 8828347417fffff\n",
            "@zoom[ 12 ]: 8c283082a06bbff\n",
            "@zoom[ 12 ]: 8c28347416257ff\n",
            "@zoom[ 12 ]: 8c2834741602bff\n",
            "@zoom[ 12 ]: 8c28347416021ff\n"
          ]
        }
      ],
      "source": [
        "import h3\n",
        "# lat/lngs from SF mission, Stanford NVidia, Packard, Gates Buildings\n",
        "locations = [(37.788022, -122.399797), (37.428226, -122.174722), \n",
        "             (37.429749, -122.1735490), (37.429761, -122.173290)]\n",
        "for zoom in [8, 12]: # zoomlevels 8 and 12 (imagine the +/- in map zoom)\n",
        "  for l in locations:\n",
        "    cell_id = h3.geo_to_h3(l[0], l[1], zoom)\n",
        "    print(\"@zoom[\", zoom, \"]:\", cell_id)"
      ]
    },
    {
      "cell_type": "code",
      "source": [
        "from pybloom_live import BloomFilter\n",
        "\n",
        "# Create a Bloom filter with 1000 items and a 0.1% false positive rate\n",
        "bf = BloomFilter(capacity=1000, error_rate=0.001)\n",
        "\n",
        "# Add some integers to the Bloom filter\n",
        "bf.add(42); bf.add(30); bf.add(50)\n",
        "\n",
        "# Check if each integer in the list is in the Bloom filter\n",
        "integer_list = [42, 50, 100, 32]\n",
        "for i in integer_list:\n",
        "  if i in bf:\n",
        "    print(f\"{i} may be in the Bloom filter\")\n",
        "  else:\n",
        "    print(f\"{i} is definitely not in the Bloom filter\")"
      ],
      "metadata": {
        "colab": {
          "base_uri": "https://localhost:8080/"
        },
        "id": "OHG_WGX3ayYa",
        "outputId": "a9f150fc-6eec-4587-ac97-d711ffd83e89"
      },
      "execution_count": 8,
      "outputs": [
        {
          "output_type": "stream",
          "name": "stdout",
          "text": [
            "42 may be in the Bloom filter\n",
            "50 may be in the Bloom filter\n",
            "100 is definitely not in the Bloom filter\n",
            "32 is definitely not in the Bloom filter\n"
          ]
        }
      ]
    },
    {
      "cell_type": "code",
      "source": [
        "from google.colab import drive\n",
        "drive.mount('/content/drive')"
      ],
      "metadata": {
        "id": "ga94lY3Vbd6J"
      },
      "execution_count": null,
      "outputs": []
    },
    {
      "cell_type": "code",
      "source": [
        "import numpy as np, faiss\n",
        "# Generate 1000 points in a 10-dimensional space\n",
        "X = np.random.rand(1000, 10).astype('float32')\n",
        "\n",
        "# Build an LSH index for the points\n",
        "index = faiss.IndexLSH(10, 8)\n",
        "index.add(X)\n",
        "\n",
        "# Find the 5 nearest neighbors (distances and points) of xq, a new 10-dim point\n",
        "xq = np.random.rand(10).astype('float32') \n",
        "D, I = index.search(np.expand_dims(xq, axis=0), k=5)\n",
        "\n",
        "# Print the indices and distances of the nearest neighbors\n",
        "print(\"Nearest neighbor of \", xq, \" is:\", I, \" with distance: \", D)"
      ],
      "metadata": {
        "colab": {
          "base_uri": "https://localhost:8080/"
        },
        "id": "LYhsf-tsa2iz",
        "outputId": "9fb99345-38e6-49d0-859a-846c7800119e"
      },
      "execution_count": 12,
      "outputs": [
        {
          "output_type": "stream",
          "name": "stdout",
          "text": [
            "Nearest neighbor of  [0.9562943  0.4509454  0.75692314 0.96686363 0.79955685 0.2184114\n",
            " 0.5928665  0.6337663  0.41091037 0.99143934]  is: [[21 49 57 59 79]]  with distance:  [[0. 0. 0. 0. 0.]]\n"
          ]
        }
      ]
    },
    {
      "cell_type": "code",
      "source": [
        "import faiss\n",
        "import numpy as np\n",
        "from PIL import Image\n",
        "\n",
        "d = 256 # number of dimensions in the feature vector\n",
        "# Map an image to a k-dimensions\n",
        "def normed(fname):\n",
        "  # Load the image\n",
        "  img = Image.open(fname)\n",
        "  img = img.resize((16, 16))\n",
        "  img = np.array(img)\n",
        "  # Convert the image to feature vector\n",
        "  x = img.reshape(-1, d).astype('float32')\n",
        "  faiss.normalize_L2(x) # Normalize the feature vector\n",
        "  return x\n",
        "\n",
        "# Build an index for the feature vectors\n",
        "index = faiss.IndexFlatL2(d)\n",
        "index.add(normed('stanford-logo.png'))\n",
        "for img in [\"stanford-logo.png\", \"stanford-logo2.jpg\", \"stanford-logo3.png\"]:\n",
        "  index.add(normed(img))\n",
        "# Query an example image\n",
        "query_x = normed('stanford-logo3.png')\n",
        "D, I = index.search(query_x, k=2)\n",
        "print(D)"
      ],
      "metadata": {
        "colab": {
          "base_uri": "https://localhost:8080/"
        },
        "id": "N5o8nVIBa49Q",
        "outputId": "9b735b81-4e19-4a5b-bbfb-a5da91478d37"
      },
      "execution_count": 13,
      "outputs": [
        {
          "output_type": "stream",
          "name": "stdout",
          "text": [
            "[[0.         0.27528164]\n",
            " [0.         0.13537623]\n",
            " [0.         0.13537623]\n",
            " [0.         0.18201266]]\n"
          ]
        }
      ]
    }
  ]
}